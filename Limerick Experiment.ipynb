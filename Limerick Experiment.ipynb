{
 "cells": [
  {
   "cell_type": "code",
   "execution_count": 2,
   "metadata": {},
   "outputs": [
    {
     "name": "stdout",
     "output_type": "stream",
     "text": [
      "Requirement already satisfied: nltk in c:\\users\\hazel\\appdata\\local\\programs\\python\\python38-32\\lib\\site-packages (3.5)\n",
      "Requirement already satisfied: click in c:\\users\\hazel\\appdata\\local\\programs\\python\\python38-32\\lib\\site-packages (from nltk) (7.1.2)\n",
      "Requirement already satisfied: joblib in c:\\users\\hazel\\appdata\\local\\programs\\python\\python38-32\\lib\\site-packages (from nltk) (0.17.0)\n",
      "Requirement already satisfied: regex in c:\\users\\hazel\\appdata\\local\\programs\\python\\python38-32\\lib\\site-packages (from nltk) (2020.11.13)\n",
      "Requirement already satisfied: tqdm in c:\\users\\hazel\\appdata\\local\\programs\\python\\python38-32\\lib\\site-packages (from nltk) (4.53.0)\n"
     ]
    }
   ],
   "source": [
    "!pip install nltk"
   ]
  },
  {
   "cell_type": "code",
   "execution_count": 5,
   "metadata": {},
   "outputs": [],
   "source": [
    "import nltk\n",
    "from nltk.corpus import brown"
   ]
  },
  {
   "cell_type": "code",
   "execution_count": 22,
   "metadata": {},
   "outputs": [
    {
     "name": "stdout",
     "output_type": "stream",
     "text": [
      "\n",
      "\n",
      "Welcome to Nantucket!\n"
     ]
    },
    {
     "ename": "ModuleNotFoundError",
     "evalue": "No module named 'limerick'",
     "output_type": "error",
     "traceback": [
      "\u001b[1;31m---------------------------------------------------------------------------\u001b[0m",
      "\u001b[1;31mModuleNotFoundError\u001b[0m                       Traceback (most recent call last)",
      "\u001b[1;32m<ipython-input-22-7d6e24ed85de>\u001b[0m in \u001b[0;36m<module>\u001b[1;34m\u001b[0m\n\u001b[0;32m     15\u001b[0m \u001b[0mprint\u001b[0m\u001b[1;33m(\u001b[0m\u001b[1;34m\"Welcome to Nantucket!\"\u001b[0m\u001b[1;33m)\u001b[0m\u001b[1;33m\u001b[0m\u001b[1;33m\u001b[0m\u001b[0m\n\u001b[0;32m     16\u001b[0m \u001b[1;33m\u001b[0m\u001b[0m\n\u001b[1;32m---> 17\u001b[1;33m \u001b[1;32mfrom\u001b[0m \u001b[0mlimerick\u001b[0m \u001b[1;32mimport\u001b[0m \u001b[1;33m*\u001b[0m\u001b[1;33m\u001b[0m\u001b[1;33m\u001b[0m\u001b[0m\n\u001b[0m\u001b[0;32m     18\u001b[0m \u001b[1;32mfrom\u001b[0m \u001b[0mline\u001b[0m \u001b[1;32mimport\u001b[0m \u001b[1;33m*\u001b[0m\u001b[1;33m\u001b[0m\u001b[1;33m\u001b[0m\u001b[0m\n\u001b[0;32m     19\u001b[0m \u001b[1;33m\u001b[0m\u001b[0m\n",
      "\u001b[1;31mModuleNotFoundError\u001b[0m: No module named 'limerick'"
     ]
    }
   ],
   "source": [
    "#      Copyright 2012 Matthew Walters\n",
    "#\n",
    "#   Licensed under the Apache License, Version 2.0 (the \"License\");\n",
    "#   you may not use this file except in compliance with the License.\n",
    "#   You may obtain a copy of the License at\n",
    "#\n",
    "#       http://www.apache.org/licenses/LICENSE-2.0\n",
    "#\n",
    "#   Unless required by applicable law or agreed to in writing, software\n",
    "#   distributed under the License is distributed on an \"AS IS\" BASIS,\n",
    "#   WITHOUT WARRANTIES OR CONDITIONS OF ANY KIND, either express or implied.\n",
    "#   See the License for the specific language governing permissions and\n",
    "#   limitations under the License.\n",
    "print('\\n')\n",
    "print(\"Welcome to Nantucket!\")\n",
    "\n",
    "from limerick import *\n",
    "from line import *\n",
    "\n",
    "__lines__ = [AnapesticLine, AmphibrachicLine]\n",
    "\n",
    "__limericks__ = [RandomLimerick,\n",
    "                LexigraphicLimerick,\n",
    "                BigramGraphDFSLimerick,\n",
    "                TrigramGraphDFSLimerick]\n",
    "\n",
    "while True:\n",
    "    print('\\n')\n",
    "    print('enter q to quit')\n",
    "    print('\\n')\n",
    "    for i, lim in enumerate(__limericks__):\n",
    "        print('enter ' + str(i) + ' for a ' + str(lim))\n",
    "    limindex = raw_input('\\nnantucket>>>')\n",
    "    if limindex == 'q':\n",
    "        break\n",
    "    lim = None\n",
    "    try:\n",
    "        limindex = int(limindex)\n",
    "        if limindex >= 0 and limindex < len(__limericks__):\n",
    "            lim = __limericks__[limindex]\n",
    "        else:\n",
    "            raise ValueError\n",
    "    except ValueError:\n",
    "        print('bad input, try again...')\n",
    "        continue\n",
    "    print('\\n')\n",
    "    for i, l in enumerate(__lines__):\n",
    "        print('enter ' + str(i) + ' for an ' + str(l))\n",
    "    lineindex = raw_input('\\nnantucket>>>')\n",
    "    if lineindex == 'q':\n",
    "        break\n",
    "    ln = None\n",
    "    try:\n",
    "        lineindex = int(lineindex)\n",
    "        if lineindex >= 0 and lineindex < len(__lines__):\n",
    "            ln = __lines__[lineindex]\n",
    "        else:\n",
    "            raise ValueError\n",
    "    except:\n",
    "        print('bad input, try again...')\n",
    "        continue\n",
    "    print('generating limerick, please stand by...')\n",
    "    print('\\n\\n')\n",
    "    print(lim(ln))\n",
    "    print('\\n\\n')\n",
    "    raw_input('press enter to continue')\n",
    "'''\n",
    "\n",
    "\n",
    "\n",
    "    for i, lim in enumerate(_limericks):\n",
    "        print('enter ' + str(i) + ' for ' + lim.name())\n",
    "    print('enter q to quit')\n",
    "    reply = raw_input(\"\\nnantucket>>>\")\n",
    "    try:\n",
    "        index = int(reply)\n",
    "        if index >= 0 and index < len(_limericks):\n",
    "            l = _limericks[index]\n",
    "            l = l()\n",
    "            print('\\n')\n",
    "            print(l)\n",
    "            print('\\n\\npress enter')\n",
    "            raw_input('')\n",
    "    except ValueError:\n",
    "        pass\n",
    "    if reply == 'q': \n",
    "        break\n",
    "'''"
   ]
  },
  {
   "cell_type": "code",
   "execution_count": null,
   "metadata": {},
   "outputs": [],
   "source": []
  }
 ],
 "metadata": {
  "kernelspec": {
   "display_name": "Python 3",
   "language": "python",
   "name": "python3"
  },
  "language_info": {
   "codemirror_mode": {
    "name": "ipython",
    "version": 3
   },
   "file_extension": ".py",
   "mimetype": "text/x-python",
   "name": "python",
   "nbconvert_exporter": "python",
   "pygments_lexer": "ipython3",
   "version": "3.8.5"
  }
 },
 "nbformat": 4,
 "nbformat_minor": 4
}
