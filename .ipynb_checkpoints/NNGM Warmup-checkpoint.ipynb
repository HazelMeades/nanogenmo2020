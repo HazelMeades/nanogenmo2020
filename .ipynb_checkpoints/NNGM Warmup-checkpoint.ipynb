{
 "cells": [
  {
   "cell_type": "code",
   "execution_count": 1,
   "metadata": {},
   "outputs": [],
   "source": [
    "import random"
   ]
  },
  {
   "cell_type": "code",
   "execution_count": 10,
   "metadata": {},
   "outputs": [
    {
     "name": "stdout",
     "output_type": "stream",
     "text": [
      "Requirement already satisfied: markovify in c:\\users\\hazel\\appdata\\local\\programs\\python\\python38-32\\lib\\site-packages (0.8.3)\n",
      "Requirement already satisfied: unidecode in c:\\users\\hazel\\appdata\\local\\programs\\python\\python38-32\\lib\\site-packages (from markovify) (1.1.1)\n"
     ]
    }
   ],
   "source": [
    "!pip install markovify"
   ]
  },
  {
   "cell_type": "code",
   "execution_count": 14,
   "metadata": {},
   "outputs": [],
   "source": [
    "import markovify"
   ]
  },
  {
   "cell_type": "code",
   "execution_count": 22,
   "metadata": {},
   "outputs": [],
   "source": [
    "# Get raw text as string.\n",
    "with open(\"nanowrimo/nanos-combined.txt\") as f:\n",
    "    text = f.read()"
   ]
  },
  {
   "cell_type": "code",
   "execution_count": 23,
   "metadata": {},
   "outputs": [],
   "source": [
    "# Build the model.\n",
    "text_model = markovify.Text(text)"
   ]
  },
  {
   "cell_type": "code",
   "execution_count": 24,
   "metadata": {},
   "outputs": [
    {
     "name": "stdout",
     "output_type": "stream",
     "text": [
      "Exhausted by her neck unclamped itself and she felt angry.\n",
      "However, he felt it gingerly.\n",
      "The boy couldn't seem to come from behind her.\n",
      "Simon carefully put on his forehead and he slid back just above her to one side.\n",
      "It sounded like he had answered the phone; she knew for certain that this time round.\n",
      "She already knew what that meant he wouldn't be able to stop now that she assumed was Gary's workplace.\n",
      "Michael said in an attempt to make idle chit chat and they made the mistake of blinking and the metallic tang of blood seeped into her own yelp, one of the other man in the surrounding darkness.\n",
      "He hadn't expected her to play with.\n",
      "Gary ignored him and his sister's arm.\n",
      "She sat on the old woman smiled and Imogen exchanged looks of surprise.\n",
      "Chapter 5 Louise laughed with him.\n",
      "He held the book up in her head for potential conversation topics that she knew for certain that it was only now that she knew that once everyone close to the maggots and the gentle tug of Imogen's hand steering her; Louise didn't pause to ask if that's okay.\n",
      "Whatever that meant, she doubted she would barely notice the difference.\n",
      "This was really in charge.\n",
      "The child's eyes as best as he headed upstairs towards his torso pocket.\n",
      "To take her mind off of the separation for him; he knew it couldn't be real.\n",
      "Now, there's not much but it was him.\n",
      "Katherine could also tell and was promptly forming around it due to his mind on the page.\n",
      "Benjamin nodded in the close code and prevent any further information.\n",
      "The boy looked down at herself and realised it was Simon.\n",
      "Imogen was the loudest person on the dangers of the room.\n",
      "As for the top of the clip's impact.\n",
      "He abruptly averted his eyes on the spot.\n",
      "She patted her lap and Louise promptly jumped onto the floor, splicing her worried expression into fragments.\n",
      "Back then she took in the emergency code.\n",
      "When Gary stepped onto the portal had spit him out of the idea.\n",
      "All anger forgotten in their own world, regardless of the machine, holding down the next room.\n",
      "Whilst Bob's achievement board was impressive, it was a respected engineer.\n",
      "Fred simply stroked the wall surface underneath with her left hand and pressed five numbers into the portal keypad was not.\n",
      "Michael joined in with a clashing combination of green and purple.\n",
      "Could Jeremy have planted the bomb, murdered Bob and now you've ruined it.\n",
      "Her chest still felt tight but it seemed like pleading would do little to change the situation.\n",
      "Louise replied; the quotation marks in her bedroom, staring vacantly at the centre of the desk drawer.\n",
      "Jeremy smiled, released the pedal and sat back and correct her less obvious abbreviations into full words.\n",
      "He hung up and went to hers which was still an intern.\n",
      "He jumped onto the cave walls.\n",
      "As soon as he tried to keep busy but today the intern had little patience for this.\n",
      "We don't know what he assumed was a few minutes later the detective entered.\n",
      "He patted his shoulder.\n",
      "Of course there were no tell-tale footsteps echoing as he passed over by a flickering line that seemed to run but Louise didn't realise they'd arrived at the others.\n",
      "A rectangular blue box sat under her breath; wonder subsiding as she did so frequently.\n",
      "Jeremy removed his helmet and let out that eerie chuckle again.\n",
      "Most of the meal.\n",
      "It did not want to know.\n",
      "There was a simple factory worker and her grandmother physically had her own home.\n",
      "For the time down and took a sip of her own hair.\n",
      "*** Damien strolled into the city centre with a round of questions.\n",
      "That did not sound like a cartoon character peering through the man's coffee remained almost completely untouched.\n",
      "The thought of Bob.\n",
      "Nobody likes to think back to the previous version of the room to press the appropriate button on their left.\n",
      "He headed towards the sound of something being ominously scraped across the keyboard, a slice of pizza lying untouched beside the fridge door open and a smile on his legs.\n",
      "As far as she surveyed the top of the sheets.\n",
      "The others looked at it.\n",
      "It firmly wedged the unfortunate object by his tone, she took a deep breath to calm herself and Imogen.\n",
      "The board could turn into a fine white thread in a permanent smile.\n",
      "Eventually he gave Gary smaller pieces of glass and an ache that seemed to idolise her work.\n",
      "It was an equal chance that Michael was attempting to rub the stain away with shooting one of the object.\n",
      "Louise guessed that it would take a truly talented engineer to tamper with such venom.\n",
      "Etta, Jeremy, Simon and Ben split into a distant wall and was finally ready to run hot, he returned to the bag that he'd left on the sky was a rather uncomfortable, cold chair.\n",
      "Louise knew from experience that stretching it up to her limbs and realised it was a brief glance, there appeared to have been far enough from the hedge was difficult to concentrate with Benjamin still staring at a pace a couple several tables away from him.\n",
      "Of course, that was appropriate for her phone.\n",
      "Ironically, she hated the memory and nodded.\n",
      "For a few seconds and then glanced up at the fence which surrounded the garden.\n",
      "Etta replied, typing in a pondering tone.\n",
      "As for the time she had found that he didn't have time for work.\n",
      "What had he interacted with?\n",
      "Louise repressed a grunt of pain.\n",
      "He turned and approached the noise hoping to determine its source.\n",
      "It's a part of meat from his trouser pocket, taking care to zip up his courage?\n",
      "She searched for some detail to pick up the wood.\n",
      "She wondered how it was supposed to be the exception.\n",
      "In short, he liked to have his certificates on the floor.\n",
      "The old woman smiled at this news.\n",
      "Michelle glanced up at the unexpected apology.\n",
      "She lay back onto the soft tip of it to meet his daughter's lower lip wobbled.\n",
      "Broken out of the morning trying not to be polite about the place's temperature if he was extremely unusual at this stage.\n",
      "I thought it was then that was ten times larger.\n",
      "He turned to face Benjamin.\n",
      "Now that Louise was suddenly close by again.\n",
      "Louise was surprised that the last emotion she wanted to be empty.\n",
      "Suddenly a wheel emerged from the other side and in general the person responsible for the off switch.\n",
      "Surely the answer was not softened.\n",
      "Realising what he wanted to scream.\n",
      "He should've considered that before he added her to spiral into the portal.\n",
      "She panicked on hearing the deep bags underneath them.\n",
      "He cast his eyes staring into hers.\n",
      "Suddenly a bright blue light of day.\n",
      "She scanned the playground and her father would be easier if it wasn't a problem as the old woman growled.\n",
      "Michael said, as he retrieved the wood and set off through the portal and the young girl burst into tears.\n",
      "Thank you to the height difference between him and he'd spent working at the sad glimmer in her pocket.\n",
      "It had a talent for numbers had been surprisingly numerous in its small size, stood proudly.\n",
      "He knew what it was so informal that nobody should be blamed for the hotel.\n",
      "He reached back into the playground and her teacher a shy smile, maybe this wasn't a lecture.\n",
      "Imogen was young enough to reach the bottom.\n",
      "Etta hadn't been an accountant so she walked through it, stepping just outside the portal, pulling his sister would understand.\n",
      "She liked to decorate the surface of clothing, not so much to her from the other so instantly.\n",
      "Louise was lying on the lone star she had a feeling that the floor beside Louise.\n",
      "She wearily lifted her arm a gentle shove.\n",
      "Most workshops would have been working there for a response but instead her eyes at the fence which surrounded the garden.\n",
      "Gary's thoughts were interrupted by a depraved lunatic was one thing left to return.\n",
      "Normally, if you helped him out from underneath her and a further loud scraping sound followed.\n",
      "It had to be talking to him?\n",
      "In fact, he appeared to be imprinted onto his back.\n",
      "Louise replied, happy for the metal wedged deep in his bag.\n",
      "Gary wondered if he was needed.\n"
     ]
    }
   ],
   "source": [
    "# Print five randomly-generated sentences\n",
    "for i in range(105):\n",
    "    print(text_model.make_sentence())"
   ]
  },
  {
   "cell_type": "code",
   "execution_count": null,
   "metadata": {},
   "outputs": [],
   "source": []
  }
 ],
 "metadata": {
  "kernelspec": {
   "display_name": "Python 3",
   "language": "python",
   "name": "python3"
  },
  "language_info": {
   "codemirror_mode": {
    "name": "ipython",
    "version": 3
   },
   "file_extension": ".py",
   "mimetype": "text/x-python",
   "name": "python",
   "nbconvert_exporter": "python",
   "pygments_lexer": "ipython3",
   "version": "3.8.5"
  }
 },
 "nbformat": 4,
 "nbformat_minor": 4
}
